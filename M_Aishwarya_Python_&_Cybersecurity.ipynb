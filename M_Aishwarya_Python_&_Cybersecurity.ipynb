{
  "nbformat": 4,
  "nbformat_minor": 0,
  "metadata": {
    "colab": {
      "name": " M.Aishwarya Python & Cybersecurity.ipynb",
      "provenance": [],
      "collapsed_sections": []
    },
    "kernelspec": {
      "name": "python3",
      "display_name": "Python 3"
    },
    "language_info": {
      "name": "python"
    }
  },
  "cells": [
    {
      "cell_type": "code",
      "metadata": {
        "id": "UrsraL97e6TC"
      },
      "source": [
        "import requests\n",
        "#import os\n",
        "from datetime import datetime\n"
      ],
      "execution_count": 7,
      "outputs": []
    },
    {
      "cell_type": "markdown",
      "metadata": {
        "id": "CD8c-_ku6O1n"
      },
      "source": [
        "Entering the api key from the weather api website."
      ]
    },
    {
      "cell_type": "markdown",
      "metadata": {
        "id": "1uAuwuxO6Tg9"
      },
      "source": [
        "Location can be searched as per our requirement"
      ]
    },
    {
      "cell_type": "code",
      "metadata": {
        "id": "UY7mwZWz1zY-"
      },
      "source": [
        "api_key= '61b97f35b02e185a6d5987bf67fb7b3d'\n",
        "location= input (\"Enter the city name: \") "
      ],
      "execution_count": null,
      "outputs": []
    },
    {
      "cell_type": "markdown",
      "metadata": {
        "id": "j7Zjjel86jyF"
      },
      "source": [
        "The weatherapi website url is given"
      ]
    },
    {
      "cell_type": "code",
      "metadata": {
        "id": "r-uO0opdwaKi"
      },
      "source": [
        "complete_api_link = \"https://api.openweathermap.org/data/2.5/weather?q=\"+location+\"&appid=\"+api_key\n",
        "api_link = requests.get(complete_api_link)\n",
        "api_data = api_link.json()"
      ],
      "execution_count": 10,
      "outputs": []
    },
    {
      "cell_type": "code",
      "metadata": {
        "id": "jbCZbhWms_tC"
      },
      "source": [
        "#creating variables to store and display the needed data\n",
        "temp_city = ((api_data['main']['temp']) - 273.15)\n",
        "weather_desc = api_data['weather'][0]['description']\n",
        "hmdt = api_data['main']['humidity']\n",
        "wind_spd = api_data['wind']['speed']\n"
      ],
      "execution_count": 11,
      "outputs": []
    },
    {
      "cell_type": "code",
      "metadata": {
        "colab": {
          "base_uri": "https://localhost:8080/"
        },
        "id": "aHQI3Pl3zBBR",
        "outputId": "a4c4dabb-fc40-40ac-f869-1f9ffefe4af1"
      },
      "source": [
        "date_time = datetime.now().strftime(\"%d %b %Y | %I:%M:%S %p\")\n",
        "print (\"-------------------------------------------------------------\")\n",
        "print (\"Weather Stats for - {}  || {}\".format(location.upper(), date_time))\n",
        "print (\"-------------------------------------------------------------\")"
      ],
      "execution_count": 12,
      "outputs": [
        {
          "output_type": "stream",
          "text": [
            "-------------------------------------------------------------\n",
            "Weather Stats for - LONDON  || 26 Jul 2021 | 05:36:42 PM\n",
            "-------------------------------------------------------------\n"
          ],
          "name": "stdout"
        }
      ]
    },
    {
      "cell_type": "code",
      "metadata": {
        "colab": {
          "base_uri": "https://localhost:8080/"
        },
        "id": "HQCVr5rZzHAW",
        "outputId": "eb69b84f-a032-42b5-be20-7ef96201f15b"
      },
      "source": [
        "print (\"Current temperature is: {:.2f} deg C\".format(temp_city))\n",
        "print (\"Current weather desc  :\",weather_desc)\n",
        "print (\"Current Humidity      :\",hmdt, '%')\n",
        "print (\"Current wind speed    :\",wind_spd ,'kmph')\n",
        "print(\"====================================================\")"
      ],
      "execution_count": 13,
      "outputs": [
        {
          "output_type": "stream",
          "text": [
            "Current temperature is: 23.44 deg C\n",
            "Current weather desc  : broken clouds\n",
            "Current Humidity      : 65 %\n",
            "Current wind speed    : 3.6 kmph\n",
            "====================================================\n"
          ],
          "name": "stdout"
        }
      ]
    },
    {
      "cell_type": "code",
      "metadata": {
        "id": "6EY0US4qzNsg"
      },
      "source": [
        "# making a list so that i can print the info to a txt \n",
        "txtlist = [temp_city,weather_desc,hmdt,wind_spd,date_time]\n",
        "#using open()buit-in function to write to a text file\n",
        "with open(\"textfile.txt\" , mode= 'w' ,encoding= 'cp1252') as f :     \n",
        "#encoding = cp1252 for win\n",
        "    f.write(\"------------------------------------------------------------- \\n \")   \n",
        "    f.write(\"Weather Stats for - {}  || {}\".format(location.upper(), date_time))\n",
        "    f.write(\"\\n ------------------------------------------------------------- \\n\")\n",
        "    f.write(\"Current temperature is: {:.2f} deg C\\n\".format(txtlist[0]))\n",
        "    f.write(\"{},{} \\n\".format(\"Current weather desc  :\" ,txtlist[1]))\n",
        "    f.write(\"{},{},{} \\n\".format(\"Current Humidity      :\",txtlist[2],\"%\"))\n",
        "    f.write(\"{},{},{} \\n\".format(\"Current wind speed    :\",txtlist[3],\"kmph\"))\n",
        "    f.write(\"====================================================\")\n",
        "    "
      ],
      "execution_count": 20,
      "outputs": []
    }
  ]
}